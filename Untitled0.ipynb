{
  "nbformat": 4,
  "nbformat_minor": 0,
  "metadata": {
    "colab": {
      "name": "Untitled0.ipynb",
      "provenance": [],
      "authorship_tag": "ABX9TyN5sEdSlYDCtAzM/ucKLz5j",
      "include_colab_link": true
    },
    "kernelspec": {
      "name": "python3",
      "display_name": "Python 3"
    }
  },
  "cells": [
    {
      "cell_type": "markdown",
      "metadata": {
        "id": "view-in-github",
        "colab_type": "text"
      },
      "source": [
        "<a href=\"https://colab.research.google.com/github/Antoine1733/WorkDataPython/blob/master/Untitled0.ipynb\" target=\"_parent\"><img src=\"https://colab.research.google.com/assets/colab-badge.svg\" alt=\"Open In Colab\"/></a>"
      ]
    },
    {
      "cell_type": "code",
      "metadata": {
        "id": "tjUbcyYIPPlg",
        "outputId": "9311db94-b1fc-4eb5-ba93-d2b7b9ee9b8a",
        "colab": {
          "base_uri": "https://localhost:8080/",
          "height": 480
        }
      },
      "source": [
        "pip install geopandas"
      ],
      "execution_count": 1,
      "outputs": [
        {
          "output_type": "stream",
          "text": [
            "Collecting geopandas\n",
            "\u001b[?25l  Downloading https://files.pythonhosted.org/packages/f7/a4/e66aafbefcbb717813bf3a355c8c4fc3ed04ea1dd7feb2920f2f4f868921/geopandas-0.8.1-py2.py3-none-any.whl (962kB)\n",
            "\u001b[K     |████████████████████████████████| 972kB 3.3MB/s \n",
            "\u001b[?25hCollecting pyproj>=2.2.0\n",
            "\u001b[?25l  Downloading https://files.pythonhosted.org/packages/e5/c3/071e080230ac4b6c64f1a2e2f9161c9737a2bc7b683d2c90b024825000c0/pyproj-2.6.1.post1-cp36-cp36m-manylinux2010_x86_64.whl (10.9MB)\n",
            "\u001b[K     |████████████████████████████████| 10.9MB 14.3MB/s \n",
            "\u001b[?25hCollecting fiona\n",
            "\u001b[?25l  Downloading https://files.pythonhosted.org/packages/36/8b/e8b2c11bed5373c8e98edb85ce891b09aa1f4210fd451d0fb3696b7695a2/Fiona-1.8.17-cp36-cp36m-manylinux1_x86_64.whl (14.8MB)\n",
            "\u001b[K     |████████████████████████████████| 14.8MB 302kB/s \n",
            "\u001b[?25hRequirement already satisfied: pandas>=0.23.0 in /usr/local/lib/python3.6/dist-packages (from geopandas) (1.1.2)\n",
            "Requirement already satisfied: shapely in /usr/local/lib/python3.6/dist-packages (from geopandas) (1.7.1)\n",
            "Requirement already satisfied: six>=1.7 in /usr/local/lib/python3.6/dist-packages (from fiona->geopandas) (1.15.0)\n",
            "Requirement already satisfied: click<8,>=4.0 in /usr/local/lib/python3.6/dist-packages (from fiona->geopandas) (7.1.2)\n",
            "Collecting click-plugins>=1.0\n",
            "  Downloading https://files.pythonhosted.org/packages/e9/da/824b92d9942f4e472702488857914bdd50f73021efea15b4cad9aca8ecef/click_plugins-1.1.1-py2.py3-none-any.whl\n",
            "Collecting cligj>=0.5\n",
            "  Downloading https://files.pythonhosted.org/packages/e4/be/30a58b4b0733850280d01f8bd132591b4668ed5c7046761098d665ac2174/cligj-0.5.0-py3-none-any.whl\n",
            "Collecting munch\n",
            "  Downloading https://files.pythonhosted.org/packages/cc/ab/85d8da5c9a45e072301beb37ad7f833cd344e04c817d97e0cc75681d248f/munch-2.5.0-py2.py3-none-any.whl\n",
            "Requirement already satisfied: attrs>=17 in /usr/local/lib/python3.6/dist-packages (from fiona->geopandas) (20.2.0)\n",
            "Requirement already satisfied: pytz>=2017.2 in /usr/local/lib/python3.6/dist-packages (from pandas>=0.23.0->geopandas) (2018.9)\n",
            "Requirement already satisfied: numpy>=1.15.4 in /usr/local/lib/python3.6/dist-packages (from pandas>=0.23.0->geopandas) (1.18.5)\n",
            "Requirement already satisfied: python-dateutil>=2.7.3 in /usr/local/lib/python3.6/dist-packages (from pandas>=0.23.0->geopandas) (2.8.1)\n",
            "Installing collected packages: pyproj, click-plugins, cligj, munch, fiona, geopandas\n",
            "Successfully installed click-plugins-1.1.1 cligj-0.5.0 fiona-1.8.17 geopandas-0.8.1 munch-2.5.0 pyproj-2.6.1.post1\n"
          ],
          "name": "stdout"
        }
      ]
    },
    {
      "cell_type": "code",
      "metadata": {
        "id": "j7vNhhnuPaBo",
        "outputId": "654fc360-053d-4947-9349-2df5d7390833",
        "colab": {
          "base_uri": "https://localhost:8080/",
          "height": 165
        }
      },
      "source": [
        "pip install descartes"
      ],
      "execution_count": 6,
      "outputs": [
        {
          "output_type": "stream",
          "text": [
            "Requirement already satisfied: descartes in /usr/local/lib/python3.6/dist-packages (1.1.0)\n",
            "Requirement already satisfied: matplotlib in /usr/local/lib/python3.6/dist-packages (from descartes) (3.2.2)\n",
            "Requirement already satisfied: numpy>=1.11 in /usr/local/lib/python3.6/dist-packages (from matplotlib->descartes) (1.18.5)\n",
            "Requirement already satisfied: kiwisolver>=1.0.1 in /usr/local/lib/python3.6/dist-packages (from matplotlib->descartes) (1.2.0)\n",
            "Requirement already satisfied: pyparsing!=2.0.4,!=2.1.2,!=2.1.6,>=2.0.1 in /usr/local/lib/python3.6/dist-packages (from matplotlib->descartes) (2.4.7)\n",
            "Requirement already satisfied: python-dateutil>=2.1 in /usr/local/lib/python3.6/dist-packages (from matplotlib->descartes) (2.8.1)\n",
            "Requirement already satisfied: cycler>=0.10 in /usr/local/lib/python3.6/dist-packages (from matplotlib->descartes) (0.10.0)\n",
            "Requirement already satisfied: six>=1.5 in /usr/local/lib/python3.6/dist-packages (from python-dateutil>=2.1->matplotlib->descartes) (1.15.0)\n"
          ],
          "name": "stdout"
        }
      ]
    },
    {
      "cell_type": "code",
      "metadata": {
        "id": "kL6XZjTTPaGP",
        "outputId": "3f7f4a25-0ee8-4665-987d-761c5a79e9a0",
        "colab": {
          "base_uri": "https://localhost:8080/",
          "height": 424
        }
      },
      "source": [
        "import geopandas as gpd\n",
        "map_df = gpd.read_file(\"departements-20140306-5m.shp\")\n",
        "map_df"
      ],
      "execution_count": 32,
      "outputs": [
        {
          "output_type": "execute_result",
          "data": {
            "text/html": [
              "<div>\n",
              "<style scoped>\n",
              "    .dataframe tbody tr th:only-of-type {\n",
              "        vertical-align: middle;\n",
              "    }\n",
              "\n",
              "    .dataframe tbody tr th {\n",
              "        vertical-align: top;\n",
              "    }\n",
              "\n",
              "    .dataframe thead th {\n",
              "        text-align: right;\n",
              "    }\n",
              "</style>\n",
              "<table border=\"1\" class=\"dataframe\">\n",
              "  <thead>\n",
              "    <tr style=\"text-align: right;\">\n",
              "      <th></th>\n",
              "      <th>code_insee</th>\n",
              "      <th>nom</th>\n",
              "      <th>nuts3</th>\n",
              "      <th>wikipedia</th>\n",
              "      <th>geometry</th>\n",
              "    </tr>\n",
              "  </thead>\n",
              "  <tbody>\n",
              "    <tr>\n",
              "      <th>0</th>\n",
              "      <td>01</td>\n",
              "      <td>Ain</td>\n",
              "      <td>FR711</td>\n",
              "      <td>b'fr:Ain (d\\xe9partement)'</td>\n",
              "      <td>POLYGON ((5.25559 45.78459, 5.24813 45.78176, ...</td>\n",
              "    </tr>\n",
              "    <tr>\n",
              "      <th>1</th>\n",
              "      <td>02</td>\n",
              "      <td>Aisne</td>\n",
              "      <td>FR221</td>\n",
              "      <td>b'fr:Aisne (d\\xe9partement)'</td>\n",
              "      <td>POLYGON ((3.48175 48.86640, 3.48144 48.86635, ...</td>\n",
              "    </tr>\n",
              "    <tr>\n",
              "      <th>2</th>\n",
              "      <td>03</td>\n",
              "      <td>Allier</td>\n",
              "      <td>FR721</td>\n",
              "      <td>b'fr:Allier (d\\xe9partement)'</td>\n",
              "      <td>POLYGON ((2.38613 46.33196, 2.38597 46.33203, ...</td>\n",
              "    </tr>\n",
              "    <tr>\n",
              "      <th>3</th>\n",
              "      <td>04</td>\n",
              "      <td>Alpes-de-Haute-Provence</td>\n",
              "      <td>FR821</td>\n",
              "      <td>fr:Alpes-de-Haute-Provence</td>\n",
              "      <td>POLYGON ((6.66579 43.83120, 6.66739 43.83119, ...</td>\n",
              "    </tr>\n",
              "    <tr>\n",
              "      <th>4</th>\n",
              "      <td>05</td>\n",
              "      <td>Hautes-Alpes</td>\n",
              "      <td>FR822</td>\n",
              "      <td>fr:Hautes-Alpes</td>\n",
              "      <td>POLYGON ((6.24158 44.44686, 6.24210 44.44732, ...</td>\n",
              "    </tr>\n",
              "    <tr>\n",
              "      <th>...</th>\n",
              "      <td>...</td>\n",
              "      <td>...</td>\n",
              "      <td>...</td>\n",
              "      <td>...</td>\n",
              "      <td>...</td>\n",
              "    </tr>\n",
              "    <tr>\n",
              "      <th>96</th>\n",
              "      <td>971</td>\n",
              "      <td>Guadeloupe</td>\n",
              "      <td>FR910</td>\n",
              "      <td>fr:Guadeloupe</td>\n",
              "      <td>MULTIPOLYGON (((-61.61403 15.83955, -61.61399 ...</td>\n",
              "    </tr>\n",
              "    <tr>\n",
              "      <th>97</th>\n",
              "      <td>972</td>\n",
              "      <td>Martinique</td>\n",
              "      <td>FR920</td>\n",
              "      <td>fr:Martinique</td>\n",
              "      <td>MULTIPOLYGON (((-60.86880 14.39091, -60.86875 ...</td>\n",
              "    </tr>\n",
              "    <tr>\n",
              "      <th>98</th>\n",
              "      <td>973</td>\n",
              "      <td>Guyane</td>\n",
              "      <td>FR930</td>\n",
              "      <td>fr:Guyane</td>\n",
              "      <td>MULTIPOLYGON (((-52.58463 5.28309, -52.58348 5...</td>\n",
              "    </tr>\n",
              "    <tr>\n",
              "      <th>99</th>\n",
              "      <td>974</td>\n",
              "      <td>b'La R\\xe9union'</td>\n",
              "      <td>FR940</td>\n",
              "      <td>b'fr:La R\\xe9union'</td>\n",
              "      <td>MULTIPOLYGON (((55.77886 -21.36291, 55.77889 -...</td>\n",
              "    </tr>\n",
              "    <tr>\n",
              "      <th>100</th>\n",
              "      <td>976</td>\n",
              "      <td>Mayotte</td>\n",
              "      <td>None</td>\n",
              "      <td>fr:Mayotte</td>\n",
              "      <td>MULTIPOLYGON (((45.13667 -13.00398, 45.13690 -...</td>\n",
              "    </tr>\n",
              "  </tbody>\n",
              "</table>\n",
              "<p>101 rows × 5 columns</p>\n",
              "</div>"
            ],
            "text/plain": [
              "    code_insee  ...                                           geometry\n",
              "0           01  ...  POLYGON ((5.25559 45.78459, 5.24813 45.78176, ...\n",
              "1           02  ...  POLYGON ((3.48175 48.86640, 3.48144 48.86635, ...\n",
              "2           03  ...  POLYGON ((2.38613 46.33196, 2.38597 46.33203, ...\n",
              "3           04  ...  POLYGON ((6.66579 43.83120, 6.66739 43.83119, ...\n",
              "4           05  ...  POLYGON ((6.24158 44.44686, 6.24210 44.44732, ...\n",
              "..         ...  ...                                                ...\n",
              "96         971  ...  MULTIPOLYGON (((-61.61403 15.83955, -61.61399 ...\n",
              "97         972  ...  MULTIPOLYGON (((-60.86880 14.39091, -60.86875 ...\n",
              "98         973  ...  MULTIPOLYGON (((-52.58463 5.28309, -52.58348 5...\n",
              "99         974  ...  MULTIPOLYGON (((55.77886 -21.36291, 55.77889 -...\n",
              "100        976  ...  MULTIPOLYGON (((45.13667 -13.00398, 45.13690 -...\n",
              "\n",
              "[101 rows x 5 columns]"
            ]
          },
          "metadata": {
            "tags": []
          },
          "execution_count": 32
        }
      ]
    },
    {
      "cell_type": "code",
      "metadata": {
        "id": "PZXmrf5OTEX9",
        "outputId": "b711cfc7-12cd-4828-8aeb-26ff562642dc",
        "colab": {
          "base_uri": "https://localhost:8080/",
          "height": 147
        }
      },
      "source": [
        "pip install matplotlib"
      ],
      "execution_count": 15,
      "outputs": [
        {
          "output_type": "stream",
          "text": [
            "Requirement already satisfied: matplotlib in /usr/local/lib/python3.6/dist-packages (3.2.2)\n",
            "Requirement already satisfied: pyparsing!=2.0.4,!=2.1.2,!=2.1.6,>=2.0.1 in /usr/local/lib/python3.6/dist-packages (from matplotlib) (2.4.7)\n",
            "Requirement already satisfied: cycler>=0.10 in /usr/local/lib/python3.6/dist-packages (from matplotlib) (0.10.0)\n",
            "Requirement already satisfied: numpy>=1.11 in /usr/local/lib/python3.6/dist-packages (from matplotlib) (1.18.5)\n",
            "Requirement already satisfied: python-dateutil>=2.1 in /usr/local/lib/python3.6/dist-packages (from matplotlib) (2.8.1)\n",
            "Requirement already satisfied: kiwisolver>=1.0.1 in /usr/local/lib/python3.6/dist-packages (from matplotlib) (1.2.0)\n",
            "Requirement already satisfied: six in /usr/local/lib/python3.6/dist-packages (from cycler>=0.10->matplotlib) (1.15.0)\n"
          ],
          "name": "stdout"
        }
      ]
    },
    {
      "cell_type": "code",
      "metadata": {
        "id": "AMMC9nCVPaD6",
        "outputId": "af716393-ce3b-4b69-d1c7-540b54aee46e",
        "colab": {
          "base_uri": "https://localhost:8080/",
          "height": 280
        }
      },
      "source": [
        "import matplotlib.pyplot as plt\n",
        "# fig, ax = plt.subplots(figsize = (15,15),box_aspect=1,fig_aspect=1)\n",
        "\n",
        "map_df.plot()"
      ],
      "execution_count": 33,
      "outputs": [
        {
          "output_type": "execute_result",
          "data": {
            "text/plain": [
              "<matplotlib.axes._subplots.AxesSubplot at 0x7f6054b149e8>"
            ]
          },
          "metadata": {
            "tags": []
          },
          "execution_count": 33
        },
        {
          "output_type": "display_data",
          "data": {
            "image/png": "[encoded data removed]",
            "text/plain": [
              "<Figure size 432x288 with 1 Axes>"
            ]
          },
          "metadata": {
            "tags": [],
            "needs_background": "light"
          }
        }
      ]
    },
    {
      "cell_type": "code",
      "metadata": {
        "id": "mLY_H0U-PZ_U",
        "outputId": "360ddfa1-e7c6-45b5-ab1a-c665c3312d6c",
        "colab": {
          "base_uri": "https://localhost:8080/",
          "height": 284
        }
      },
      "source": [
        "#LETS separate domtom from metropole using contains and regexp\n",
        "map_df=map_df[map_df.code_insee.str.contains(\"\\d\\d\\d\")==False]\n",
        "map_df.plot()"
      ],
      "execution_count": 34,
      "outputs": [
        {
          "output_type": "execute_result",
          "data": {
            "text/plain": [
              "<matplotlib.axes._subplots.AxesSubplot at 0x7f60549f9b70>"
            ]
          },
          "metadata": {
            "tags": []
          },
          "execution_count": 34
        },
        {
          "output_type": "display_data",
          "data": {
            "image/png": "[encoded data removed]",
            "text/plain": [
              "<Figure size 432x288 with 1 Axes>"
            ]
          },
          "metadata": {
            "tags": [],
            "needs_background": "light"
          }
        }
      ]
    },
    {
      "cell_type": "code",
      "metadata": {
        "id": "d73fxT3tPZ6p",
        "outputId": "d1decdd0-ce13-4342-dffd-6de3f15a368c",
        "colab": {
          "base_uri": "https://localhost:8080/",
          "height": 424
        }
      },
      "source": [
        "import pandas as pd\n",
        "\n",
        "prenoms=pd.read_csv('dpt2018.csv',sep=\";\")\n",
        "prenoms"
      ],
      "execution_count": 35,
      "outputs": [
        {
          "output_type": "execute_result",
          "data": {
            "text/html": [
              "<div>\n",
              "<style scoped>\n",
              "    .dataframe tbody tr th:only-of-type {\n",
              "        vertical-align: middle;\n",
              "    }\n",
              "\n",
              "    .dataframe tbody tr th {\n",
              "        vertical-align: top;\n",
              "    }\n",
              "\n",
              "    .dataframe thead th {\n",
              "        text-align: right;\n",
              "    }\n",
              "</style>\n",
              "<table border=\"1\" class=\"dataframe\">\n",
              "  <thead>\n",
              "    <tr style=\"text-align: right;\">\n",
              "      <th></th>\n",
              "      <th>sexe</th>\n",
              "      <th>preusuel</th>\n",
              "      <th>annais</th>\n",
              "      <th>dpt</th>\n",
              "      <th>nombre</th>\n",
              "    </tr>\n",
              "  </thead>\n",
              "  <tbody>\n",
              "    <tr>\n",
              "      <th>0</th>\n",
              "      <td>1</td>\n",
              "      <td>A</td>\n",
              "      <td>XXXX</td>\n",
              "      <td>XX</td>\n",
              "      <td>27</td>\n",
              "    </tr>\n",
              "    <tr>\n",
              "      <th>1</th>\n",
              "      <td>1</td>\n",
              "      <td>AADAM</td>\n",
              "      <td>XXXX</td>\n",
              "      <td>XX</td>\n",
              "      <td>27</td>\n",
              "    </tr>\n",
              "    <tr>\n",
              "      <th>2</th>\n",
              "      <td>1</td>\n",
              "      <td>AADEL</td>\n",
              "      <td>XXXX</td>\n",
              "      <td>XX</td>\n",
              "      <td>55</td>\n",
              "    </tr>\n",
              "    <tr>\n",
              "      <th>3</th>\n",
              "      <td>1</td>\n",
              "      <td>AADIL</td>\n",
              "      <td>1983</td>\n",
              "      <td>84</td>\n",
              "      <td>3</td>\n",
              "    </tr>\n",
              "    <tr>\n",
              "      <th>4</th>\n",
              "      <td>1</td>\n",
              "      <td>AADIL</td>\n",
              "      <td>1992</td>\n",
              "      <td>92</td>\n",
              "      <td>3</td>\n",
              "    </tr>\n",
              "    <tr>\n",
              "      <th>...</th>\n",
              "      <td>...</td>\n",
              "      <td>...</td>\n",
              "      <td>...</td>\n",
              "      <td>...</td>\n",
              "      <td>...</td>\n",
              "    </tr>\n",
              "    <tr>\n",
              "      <th>3624989</th>\n",
              "      <td>2</td>\n",
              "      <td>ÉYA</td>\n",
              "      <td>2014</td>\n",
              "      <td>69</td>\n",
              "      <td>3</td>\n",
              "    </tr>\n",
              "    <tr>\n",
              "      <th>3624990</th>\n",
              "      <td>2</td>\n",
              "      <td>ÉYA</td>\n",
              "      <td>XXXX</td>\n",
              "      <td>XX</td>\n",
              "      <td>23</td>\n",
              "    </tr>\n",
              "    <tr>\n",
              "      <th>3624991</th>\n",
              "      <td>2</td>\n",
              "      <td>ÏNAYA</td>\n",
              "      <td>XXXX</td>\n",
              "      <td>XX</td>\n",
              "      <td>21</td>\n",
              "    </tr>\n",
              "    <tr>\n",
              "      <th>3624992</th>\n",
              "      <td>2</td>\n",
              "      <td>ÖZGE</td>\n",
              "      <td>XXXX</td>\n",
              "      <td>XX</td>\n",
              "      <td>30</td>\n",
              "    </tr>\n",
              "    <tr>\n",
              "      <th>3624993</th>\n",
              "      <td>2</td>\n",
              "      <td>ÖZLEM</td>\n",
              "      <td>XXXX</td>\n",
              "      <td>XX</td>\n",
              "      <td>95</td>\n",
              "    </tr>\n",
              "  </tbody>\n",
              "</table>\n",
              "<p>3624994 rows × 5 columns</p>\n",
              "</div>"
            ],
            "text/plain": [
              "         sexe preusuel annais dpt  nombre\n",
              "0           1        A   XXXX  XX      27\n",
              "1           1    AADAM   XXXX  XX      27\n",
              "2           1    AADEL   XXXX  XX      55\n",
              "3           1    AADIL   1983  84       3\n",
              "4           1    AADIL   1992  92       3\n",
              "...       ...      ...    ...  ..     ...\n",
              "3624989     2      ÉYA   2014  69       3\n",
              "3624990     2      ÉYA   XXXX  XX      23\n",
              "3624991     2    ÏNAYA   XXXX  XX      21\n",
              "3624992     2     ÖZGE   XXXX  XX      30\n",
              "3624993     2    ÖZLEM   XXXX  XX      95\n",
              "\n",
              "[3624994 rows x 5 columns]"
            ]
          },
          "metadata": {
            "tags": []
          },
          "execution_count": 35
        }
      ]
    },
    {
      "cell_type": "code",
      "metadata": {
        "id": "NCNu3TVvPZ4m",
        "outputId": "6694ac7f-b079-440b-8931-91b699f46ae3",
        "colab": {
          "base_uri": "https://localhost:8080/",
          "height": 258
        }
      },
      "source": [
        "dpt_sum=prenoms.groupby(\"dpt\").nombre.sum()\n",
        "dpt_sum"
      ],
      "execution_count": 36,
      "outputs": [
        {
          "output_type": "execute_result",
          "data": {
            "text/plain": [
              "dpt\n",
              "01      437904\n",
              "02      842940\n",
              "03      498369\n",
              "04      105739\n",
              "05      126071\n",
              "        ...   \n",
              "971     640654\n",
              "972     637827\n",
              "973     169185\n",
              "974    1192007\n",
              "XX     8261688\n",
              "Name: nombre, Length: 100, dtype: int64"
            ]
          },
          "metadata": {
            "tags": []
          },
          "execution_count": 36
        }
      ]
    },
    {
      "cell_type": "code",
      "metadata": {
        "id": "W5iQnJ0DPZ2O",
        "outputId": "4b25430b-e27d-456c-d591-43e3630baf4d",
        "colab": {
          "base_uri": "https://localhost:8080/",
          "height": 36
        }
      },
      "source": [
        "type(dpt_sum)"
      ],
      "execution_count": 37,
      "outputs": [
        {
          "output_type": "execute_result",
          "data": {
            "text/plain": [
              "pandas.core.series.Series"
            ]
          },
          "metadata": {
            "tags": []
          },
          "execution_count": 37
        }
      ]
    },
    {
      "cell_type": "code",
      "metadata": {
        "id": "_ODpcCz-PZzn",
        "outputId": "ce25deb0-3826-4158-b5d4-e5808d98ffd0",
        "colab": {
          "base_uri": "https://localhost:8080/",
          "height": 424
        }
      },
      "source": [
        "dpt_sum = dpt_sum.reset_index()\n",
        "dpt_sum"
      ],
      "execution_count": 38,
      "outputs": [
        {
          "output_type": "execute_result",
          "data": {
            "text/html": [
              "<div>\n",
              "<style scoped>\n",
              "    .dataframe tbody tr th:only-of-type {\n",
              "        vertical-align: middle;\n",
              "    }\n",
              "\n",
              "    .dataframe tbody tr th {\n",
              "        vertical-align: top;\n",
              "    }\n",
              "\n",
              "    .dataframe thead th {\n",
              "        text-align: right;\n",
              "    }\n",
              "</style>\n",
              "<table border=\"1\" class=\"dataframe\">\n",
              "  <thead>\n",
              "    <tr style=\"text-align: right;\">\n",
              "      <th></th>\n",
              "      <th>dpt</th>\n",
              "      <th>nombre</th>\n",
              "    </tr>\n",
              "  </thead>\n",
              "  <tbody>\n",
              "    <tr>\n",
              "      <th>0</th>\n",
              "      <td>01</td>\n",
              "      <td>437904</td>\n",
              "    </tr>\n",
              "    <tr>\n",
              "      <th>1</th>\n",
              "      <td>02</td>\n",
              "      <td>842940</td>\n",
              "    </tr>\n",
              "    <tr>\n",
              "      <th>2</th>\n",
              "      <td>03</td>\n",
              "      <td>498369</td>\n",
              "    </tr>\n",
              "    <tr>\n",
              "      <th>3</th>\n",
              "      <td>04</td>\n",
              "      <td>105739</td>\n",
              "    </tr>\n",
              "    <tr>\n",
              "      <th>4</th>\n",
              "      <td>05</td>\n",
              "      <td>126071</td>\n",
              "    </tr>\n",
              "    <tr>\n",
              "      <th>...</th>\n",
              "      <td>...</td>\n",
              "      <td>...</td>\n",
              "    </tr>\n",
              "    <tr>\n",
              "      <th>95</th>\n",
              "      <td>971</td>\n",
              "      <td>640654</td>\n",
              "    </tr>\n",
              "    <tr>\n",
              "      <th>96</th>\n",
              "      <td>972</td>\n",
              "      <td>637827</td>\n",
              "    </tr>\n",
              "    <tr>\n",
              "      <th>97</th>\n",
              "      <td>973</td>\n",
              "      <td>169185</td>\n",
              "    </tr>\n",
              "    <tr>\n",
              "      <th>98</th>\n",
              "      <td>974</td>\n",
              "      <td>1192007</td>\n",
              "    </tr>\n",
              "    <tr>\n",
              "      <th>99</th>\n",
              "      <td>XX</td>\n",
              "      <td>8261688</td>\n",
              "    </tr>\n",
              "  </tbody>\n",
              "</table>\n",
              "<p>100 rows × 2 columns</p>\n",
              "</div>"
            ],
            "text/plain": [
              "    dpt   nombre\n",
              "0    01   437904\n",
              "1    02   842940\n",
              "2    03   498369\n",
              "3    04   105739\n",
              "4    05   126071\n",
              "..  ...      ...\n",
              "95  971   640654\n",
              "96  972   637827\n",
              "97  973   169185\n",
              "98  974  1192007\n",
              "99   XX  8261688\n",
              "\n",
              "[100 rows x 2 columns]"
            ]
          },
          "metadata": {
            "tags": []
          },
          "execution_count": 38
        }
      ]
    },
    {
      "cell_type": "code",
      "metadata": {
        "id": "haCpyDIHPZw5",
        "outputId": "44e06d45-6b3f-4520-80a9-d5cd0544564f",
        "colab": {
          "base_uri": "https://localhost:8080/",
          "height": 36
        }
      },
      "source": [
        "type(dpt_sum)"
      ],
      "execution_count": 39,
      "outputs": [
        {
          "output_type": "execute_result",
          "data": {
            "text/plain": [
              "pandas.core.frame.DataFrame"
            ]
          },
          "metadata": {
            "tags": []
          },
          "execution_count": 39
        }
      ]
    },
    {
      "cell_type": "code",
      "metadata": {
        "id": "0tYYXQCLPZt4"
      },
      "source": [
        "dpt_sum[\"code_insee\"]=dpt_sum.dpt"
      ],
      "execution_count": 46,
      "outputs": []
    },
    {
      "cell_type": "code",
      "metadata": {
        "id": "Ll7_hIciPZrh",
        "outputId": "7f3580cf-64d9-4dee-fa30-6c9f0ff293ca",
        "colab": {
          "base_uri": "https://localhost:8080/",
          "height": 424
        }
      },
      "source": [
        "dpt_sum"
      ],
      "execution_count": 47,
      "outputs": [
        {
          "output_type": "execute_result",
          "data": {
            "text/html": [
              "<div>\n",
              "<style scoped>\n",
              "    .dataframe tbody tr th:only-of-type {\n",
              "        vertical-align: middle;\n",
              "    }\n",
              "\n",
              "    .dataframe tbody tr th {\n",
              "        vertical-align: top;\n",
              "    }\n",
              "\n",
              "    .dataframe thead th {\n",
              "        text-align: right;\n",
              "    }\n",
              "</style>\n",
              "<table border=\"1\" class=\"dataframe\">\n",
              "  <thead>\n",
              "    <tr style=\"text-align: right;\">\n",
              "      <th></th>\n",
              "      <th>dpt</th>\n",
              "      <th>nombre</th>\n",
              "      <th>code insee</th>\n",
              "      <th>code_insee</th>\n",
              "    </tr>\n",
              "  </thead>\n",
              "  <tbody>\n",
              "    <tr>\n",
              "      <th>0</th>\n",
              "      <td>01</td>\n",
              "      <td>437904</td>\n",
              "      <td>01</td>\n",
              "      <td>01</td>\n",
              "    </tr>\n",
              "    <tr>\n",
              "      <th>1</th>\n",
              "      <td>02</td>\n",
              "      <td>842940</td>\n",
              "      <td>02</td>\n",
              "      <td>02</td>\n",
              "    </tr>\n",
              "    <tr>\n",
              "      <th>2</th>\n",
              "      <td>03</td>\n",
              "      <td>498369</td>\n",
              "      <td>03</td>\n",
              "      <td>03</td>\n",
              "    </tr>\n",
              "    <tr>\n",
              "      <th>3</th>\n",
              "      <td>04</td>\n",
              "      <td>105739</td>\n",
              "      <td>04</td>\n",
              "      <td>04</td>\n",
              "    </tr>\n",
              "    <tr>\n",
              "      <th>4</th>\n",
              "      <td>05</td>\n",
              "      <td>126071</td>\n",
              "      <td>05</td>\n",
              "      <td>05</td>\n",
              "    </tr>\n",
              "    <tr>\n",
              "      <th>...</th>\n",
              "      <td>...</td>\n",
              "      <td>...</td>\n",
              "      <td>...</td>\n",
              "      <td>...</td>\n",
              "    </tr>\n",
              "    <tr>\n",
              "      <th>95</th>\n",
              "      <td>971</td>\n",
              "      <td>640654</td>\n",
              "      <td>971</td>\n",
              "      <td>971</td>\n",
              "    </tr>\n",
              "    <tr>\n",
              "      <th>96</th>\n",
              "      <td>972</td>\n",
              "      <td>637827</td>\n",
              "      <td>972</td>\n",
              "      <td>972</td>\n",
              "    </tr>\n",
              "    <tr>\n",
              "      <th>97</th>\n",
              "      <td>973</td>\n",
              "      <td>169185</td>\n",
              "      <td>973</td>\n",
              "      <td>973</td>\n",
              "    </tr>\n",
              "    <tr>\n",
              "      <th>98</th>\n",
              "      <td>974</td>\n",
              "      <td>1192007</td>\n",
              "      <td>974</td>\n",
              "      <td>974</td>\n",
              "    </tr>\n",
              "    <tr>\n",
              "      <th>99</th>\n",
              "      <td>XX</td>\n",
              "      <td>8261688</td>\n",
              "      <td>XX</td>\n",
              "      <td>XX</td>\n",
              "    </tr>\n",
              "  </tbody>\n",
              "</table>\n",
              "<p>100 rows × 4 columns</p>\n",
              "</div>"
            ],
            "text/plain": [
              "    dpt   nombre code insee code_insee\n",
              "0    01   437904         01         01\n",
              "1    02   842940         02         02\n",
              "2    03   498369         03         03\n",
              "3    04   105739         04         04\n",
              "4    05   126071         05         05\n",
              "..  ...      ...        ...        ...\n",
              "95  971   640654        971        971\n",
              "96  972   637827        972        972\n",
              "97  973   169185        973        973\n",
              "98  974  1192007        974        974\n",
              "99   XX  8261688         XX         XX\n",
              "\n",
              "[100 rows x 4 columns]"
            ]
          },
          "metadata": {
            "tags": []
          },
          "execution_count": 47
        }
      ]
    },
    {
      "cell_type": "markdown",
      "metadata": {
        "id": "-EzlBwq7bZMV"
      },
      "source": [
        ""
      ]
    },
    {
      "cell_type": "code",
      "metadata": {
        "id": "93sBpsBMPZot",
        "outputId": "1df7e98e-7d03-4410-8e09-1b096d6a9f65",
        "colab": {
          "base_uri": "https://localhost:8080/",
          "height": 424
        }
      },
      "source": [
        "merged = map_df.merge(dpt_sum, on='code_insee')\n",
        "\n",
        "merged.head()\n",
        "\n",
        "merged\n"
      ],
      "execution_count": 48,
      "outputs": [
        {
          "output_type": "execute_result",
          "data": {
            "text/html": [
              "<div>\n",
              "<style scoped>\n",
              "    .dataframe tbody tr th:only-of-type {\n",
              "        vertical-align: middle;\n",
              "    }\n",
              "\n",
              "    .dataframe tbody tr th {\n",
              "        vertical-align: top;\n",
              "    }\n",
              "\n",
              "    .dataframe thead th {\n",
              "        text-align: right;\n",
              "    }\n",
              "</style>\n",
              "<table border=\"1\" class=\"dataframe\">\n",
              "  <thead>\n",
              "    <tr style=\"text-align: right;\">\n",
              "      <th></th>\n",
              "      <th>code_insee</th>\n",
              "      <th>nom</th>\n",
              "      <th>nuts3</th>\n",
              "      <th>wikipedia</th>\n",
              "      <th>geometry</th>\n",
              "      <th>dpt</th>\n",
              "      <th>nombre</th>\n",
              "      <th>code insee</th>\n",
              "    </tr>\n",
              "  </thead>\n",
              "  <tbody>\n",
              "    <tr>\n",
              "      <th>0</th>\n",
              "      <td>01</td>\n",
              "      <td>Ain</td>\n",
              "      <td>FR711</td>\n",
              "      <td>b'fr:Ain (d\\xe9partement)'</td>\n",
              "      <td>POLYGON ((5.25559 45.78459, 5.24813 45.78176, ...</td>\n",
              "      <td>01</td>\n",
              "      <td>437904</td>\n",
              "      <td>01</td>\n",
              "    </tr>\n",
              "    <tr>\n",
              "      <th>1</th>\n",
              "      <td>02</td>\n",
              "      <td>Aisne</td>\n",
              "      <td>FR221</td>\n",
              "      <td>b'fr:Aisne (d\\xe9partement)'</td>\n",
              "      <td>POLYGON ((3.48175 48.86640, 3.48144 48.86635, ...</td>\n",
              "      <td>02</td>\n",
              "      <td>842940</td>\n",
              "      <td>02</td>\n",
              "    </tr>\n",
              "    <tr>\n",
              "      <th>2</th>\n",
              "      <td>03</td>\n",
              "      <td>Allier</td>\n",
              "      <td>FR721</td>\n",
              "      <td>b'fr:Allier (d\\xe9partement)'</td>\n",
              "      <td>POLYGON ((2.38613 46.33196, 2.38597 46.33203, ...</td>\n",
              "      <td>03</td>\n",
              "      <td>498369</td>\n",
              "      <td>03</td>\n",
              "    </tr>\n",
              "    <tr>\n",
              "      <th>3</th>\n",
              "      <td>04</td>\n",
              "      <td>Alpes-de-Haute-Provence</td>\n",
              "      <td>FR821</td>\n",
              "      <td>fr:Alpes-de-Haute-Provence</td>\n",
              "      <td>POLYGON ((6.66579 43.83120, 6.66739 43.83119, ...</td>\n",
              "      <td>04</td>\n",
              "      <td>105739</td>\n",
              "      <td>04</td>\n",
              "    </tr>\n",
              "    <tr>\n",
              "      <th>4</th>\n",
              "      <td>05</td>\n",
              "      <td>Hautes-Alpes</td>\n",
              "      <td>FR822</td>\n",
              "      <td>fr:Hautes-Alpes</td>\n",
              "      <td>POLYGON ((6.24158 44.44686, 6.24210 44.44732, ...</td>\n",
              "      <td>05</td>\n",
              "      <td>126071</td>\n",
              "      <td>05</td>\n",
              "    </tr>\n",
              "    <tr>\n",
              "      <th>...</th>\n",
              "      <td>...</td>\n",
              "      <td>...</td>\n",
              "      <td>...</td>\n",
              "      <td>...</td>\n",
              "      <td>...</td>\n",
              "      <td>...</td>\n",
              "      <td>...</td>\n",
              "      <td>...</td>\n",
              "    </tr>\n",
              "    <tr>\n",
              "      <th>89</th>\n",
              "      <td>91</td>\n",
              "      <td>Essonne</td>\n",
              "      <td>FR104</td>\n",
              "      <td>b'fr:Essonne (d\\xe9partement)'</td>\n",
              "      <td>POLYGON ((2.39233 48.33593, 2.39382 48.33444, ...</td>\n",
              "      <td>91</td>\n",
              "      <td>572350</td>\n",
              "      <td>91</td>\n",
              "    </tr>\n",
              "    <tr>\n",
              "      <th>90</th>\n",
              "      <td>92</td>\n",
              "      <td>Hauts-de-Seine</td>\n",
              "      <td>FR105</td>\n",
              "      <td>fr:Hauts-de-Seine</td>\n",
              "      <td>POLYGON ((2.31993 48.77075, 2.31786 48.76867, ...</td>\n",
              "      <td>92</td>\n",
              "      <td>1153065</td>\n",
              "      <td>92</td>\n",
              "    </tr>\n",
              "    <tr>\n",
              "      <th>91</th>\n",
              "      <td>93</td>\n",
              "      <td>Seine-Saint-Denis</td>\n",
              "      <td>FR106</td>\n",
              "      <td>fr:Seine-Saint-Denis</td>\n",
              "      <td>POLYGON ((2.41899 48.84939, 2.41636 48.84924, ...</td>\n",
              "      <td>93</td>\n",
              "      <td>975846</td>\n",
              "      <td>93</td>\n",
              "    </tr>\n",
              "    <tr>\n",
              "      <th>92</th>\n",
              "      <td>94</td>\n",
              "      <td>Val-de-Marne</td>\n",
              "      <td>FR107</td>\n",
              "      <td>fr:Val-de-Marne</td>\n",
              "      <td>POLYGON ((2.41450 48.71780, 2.41320 48.71868, ...</td>\n",
              "      <td>94</td>\n",
              "      <td>806129</td>\n",
              "      <td>94</td>\n",
              "    </tr>\n",
              "    <tr>\n",
              "      <th>93</th>\n",
              "      <td>95</td>\n",
              "      <td>Val-d'Oise</td>\n",
              "      <td>FR108</td>\n",
              "      <td>fr:Val-d'Oise</td>\n",
              "      <td>POLYGON ((1.79674 49.07196, 1.79719 49.07144, ...</td>\n",
              "      <td>95</td>\n",
              "      <td>673212</td>\n",
              "      <td>95</td>\n",
              "    </tr>\n",
              "  </tbody>\n",
              "</table>\n",
              "<p>94 rows × 8 columns</p>\n",
              "</div>"
            ],
            "text/plain": [
              "   code_insee                      nom  nuts3  ... dpt   nombre code insee\n",
              "0          01                      Ain  FR711  ...  01   437904         01\n",
              "1          02                    Aisne  FR221  ...  02   842940         02\n",
              "2          03                   Allier  FR721  ...  03   498369         03\n",
              "3          04  Alpes-de-Haute-Provence  FR821  ...  04   105739         04\n",
              "4          05             Hautes-Alpes  FR822  ...  05   126071         05\n",
              "..        ...                      ...    ...  ...  ..      ...        ...\n",
              "89         91                  Essonne  FR104  ...  91   572350         91\n",
              "90         92           Hauts-de-Seine  FR105  ...  92  1153065         92\n",
              "91         93        Seine-Saint-Denis  FR106  ...  93   975846         93\n",
              "92         94             Val-de-Marne  FR107  ...  94   806129         94\n",
              "93         95               Val-d'Oise  FR108  ...  95   673212         95\n",
              "\n",
              "[94 rows x 8 columns]"
            ]
          },
          "metadata": {
            "tags": []
          },
          "execution_count": 48
        }
      ]
    },
    {
      "cell_type": "code",
      "metadata": {
        "id": "8X_RkXtpPZm7",
        "outputId": "020b926e-b0ba-4dfb-cc39-261fe07e37c1",
        "colab": {
          "base_uri": "https://localhost:8080/",
          "height": 404
        }
      },
      "source": [
        "import matplotlib.pyplot as plt\n",
        "fig, ax = plt.subplots(1, figsize=(8, 6))\n",
        "merged.plot(column=\"nombre\",   ax=ax, linewidth=0.3,edgecolor=\"0.8\",legend=True,legend_kwds\n",
        "            ={\"label\": \"Total Birth by Departement\"})"
      ],
      "execution_count": 52,
      "outputs": [
        {
          "output_type": "execute_result",
          "data": {
            "text/plain": [
              "<matplotlib.axes._subplots.AxesSubplot at 0x7f6052d2c748>"
            ]
          },
          "metadata": {
            "tags": []
          },
          "execution_count": 52
        },
        {
          "output_type": "display_data",
          "data": {
            "image/png": "[encoded data removed]",
            "text/plain": [
              "<Figure size 576x432 with 2 Axes>"
            ]
          },
          "metadata": {
            "tags": [],
            "needs_background": "light"
          }
        }
      ]
    },
    {
      "cell_type": "code",
      "metadata": {
        "id": "AQMwae8YPZkK",
        "outputId": "f5b9ef44-7b1e-4ae3-81f6-79e147dc4d3a",
        "colab": {
          "base_uri": "https://localhost:8080/",
          "height": 604
        }
      },
      "source": [
        "ig, ax = plt.subplots(1, figsize=(12, 10))\n",
        "plt.axis([1.5,3,48.5,49.25])\n",
        "\n",
        "merged.plot(column=\"nombre\",   ax=ax, linewidth=0.3,edgecolor=\"0.8\",legend=True,legend_kwds\n",
        "            ={\"label\": \"Total Birth by Departement\"})\n"
      ],
      "execution_count": 50,
      "outputs": [
        {
          "output_type": "execute_result",
          "data": {
            "text/plain": [
              "<matplotlib.axes._subplots.AxesSubplot at 0x7f605468a860>"
            ]
          },
          "metadata": {
            "tags": []
          },
          "execution_count": 50
        },
        {
          "output_type": "display_data",
          "data": {
            "image/png": "[encoded data removed]",
            "text/plain": [
              "<Figure size 864x720 with 2 Axes>"
            ]
          },
          "metadata": {
            "tags": [],
            "needs_background": "light"
          }
        }
      ]
    },
    {
      "cell_type": "code",
      "metadata": {
        "id": "U1k-QtNsdc6k"
      },
      "source": [
        ""
      ],
      "execution_count": null,
      "outputs": []
    },
    {
      "cell_type": "code",
      "metadata": {
        "id": "P-1eMYGfdduO"
      },
      "source": [
        ""
      ],
      "execution_count": null,
      "outputs": []
    },
    {
      "cell_type": "code",
      "metadata": {
        "id": "vqRUGCWNPZhp"
      },
      "source": [
        ""
      ],
      "execution_count": null,
      "outputs": []
    },
    {
      "cell_type": "code",
      "metadata": {
        "id": "pSs8-q7bPZfz"
      },
      "source": [
        ""
      ],
      "execution_count": null,
      "outputs": []
    },
    {
      "cell_type": "code",
      "metadata": {
        "id": "XvUDXuh4PZaq"
      },
      "source": [
        ""
      ],
      "execution_count": null,
      "outputs": []
    },
    {
      "cell_type": "code",
      "metadata": {
        "id": "J3BpxP0FPZYT"
      },
      "source": [
        ""
      ],
      "execution_count": null,
      "outputs": []
    },
    {
      "cell_type": "code",
      "metadata": {
        "id": "J3g4cqcYPZV6"
      },
      "source": [
        ""
      ],
      "execution_count": null,
      "outputs": []
    },
    {
      "cell_type": "code",
      "metadata": {
        "id": "CXtNkmG2PZTj"
      },
      "source": [
        ""
      ],
      "execution_count": null,
      "outputs": []
    },
    {
      "cell_type": "code",
      "metadata": {
        "id": "OkcfdJq6PZPU"
      },
      "source": [
        ""
      ],
      "execution_count": null,
      "outputs": []
    },
    {
      "cell_type": "code",
      "metadata": {
        "id": "SGgrrLa4PZMy"
      },
      "source": [
        ""
      ],
      "execution_count": null,
      "outputs": []
    },
    {
      "cell_type": "code",
      "metadata": {
        "id": "AAx7X3prPZJ-"
      },
      "source": [
        ""
      ],
      "execution_count": null,
      "outputs": []
    },
    {
      "cell_type": "code",
      "metadata": {
        "id": "2l_VJE4IPZHD"
      },
      "source": [
        ""
      ],
      "execution_count": null,
      "outputs": []
    },
    {
      "cell_type": "code",
      "metadata": {
        "id": "Ny7jGd5qPZCo"
      },
      "source": [
        ""
      ],
      "execution_count": null,
      "outputs": []
    },
    {
      "cell_type": "code",
      "metadata": {
        "id": "Zu0ea8jFPZAP"
      },
      "source": [
        ""
      ],
      "execution_count": null,
      "outputs": []
    },
    {
      "cell_type": "code",
      "metadata": {
        "id": "3D2vw4EaPY5f"
      },
      "source": [
        ""
      ],
      "execution_count": null,
      "outputs": []
    },
    {
      "cell_type": "code",
      "metadata": {
        "id": "ZH0OLrBzPY3J"
      },
      "source": [
        ""
      ],
      "execution_count": null,
      "outputs": []
    },
    {
      "cell_type": "code",
      "metadata": {
        "id": "QGGXfejSPYzC"
      },
      "source": [
        ""
      ],
      "execution_count": null,
      "outputs": []
    },
    {
      "cell_type": "code",
      "metadata": {
        "id": "XJt2SmHMPYwD"
      },
      "source": [
        ""
      ],
      "execution_count": null,
      "outputs": []
    },
    {
      "cell_type": "code",
      "metadata": {
        "id": "lVwbhXWTPYsy"
      },
      "source": [
        ""
      ],
      "execution_count": null,
      "outputs": []
    },
    {
      "cell_type": "code",
      "metadata": {
        "id": "VNSt40hTPYpx"
      },
      "source": [
        ""
      ],
      "execution_count": null,
      "outputs": []
    },
    {
      "cell_type": "code",
      "metadata": {
        "id": "i2ueNnYHPYmk"
      },
      "source": [
        ""
      ],
      "execution_count": null,
      "outputs": []
    },
    {
      "cell_type": "code",
      "metadata": {
        "id": "CJpC4JsRPYkN"
      },
      "source": [
        ""
      ],
      "execution_count": null,
      "outputs": []
    },
    {
      "cell_type": "code",
      "metadata": {
        "id": "eupINgyyPYfh"
      },
      "source": [
        ""
      ],
      "execution_count": null,
      "outputs": []
    },
    {
      "cell_type": "code",
      "metadata": {
        "id": "zxs08nqgPYdB"
      },
      "source": [
        ""
      ],
      "execution_count": null,
      "outputs": []
    },
    {
      "cell_type": "code",
      "metadata": {
        "id": "cM0N4ZYMPYaU"
      },
      "source": [
        ""
      ],
      "execution_count": null,
      "outputs": []
    },
    {
      "cell_type": "code",
      "metadata": {
        "id": "xmT3VTZ2PYXs"
      },
      "source": [
        ""
      ],
      "execution_count": null,
      "outputs": []
    },
    {
      "cell_type": "code",
      "metadata": {
        "id": "ROfA7NwBPYS1"
      },
      "source": [
        ""
      ],
      "execution_count": null,
      "outputs": []
    },
    {
      "cell_type": "code",
      "metadata": {
        "id": "_rW2n4sNPYQa"
      },
      "source": [
        ""
      ],
      "execution_count": null,
      "outputs": []
    },
    {
      "cell_type": "code",
      "metadata": {
        "id": "_EnpDM-KPYN4"
      },
      "source": [
        ""
      ],
      "execution_count": null,
      "outputs": []
    },
    {
      "cell_type": "code",
      "metadata": {
        "id": "aa1sTy2APYLr"
      },
      "source": [
        ""
      ],
      "execution_count": null,
      "outputs": []
    },
    {
      "cell_type": "code",
      "metadata": {
        "id": "AJ6x1tt4PYJF"
      },
      "source": [
        ""
      ],
      "execution_count": null,
      "outputs": []
    },
    {
      "cell_type": "code",
      "metadata": {
        "id": "V5w3o4_8PYG-"
      },
      "source": [
        ""
      ],
      "execution_count": null,
      "outputs": []
    },
    {
      "cell_type": "code",
      "metadata": {
        "id": "P4igZK_wPYBp"
      },
      "source": [
        ""
      ],
      "execution_count": null,
      "outputs": []
    },
    {
      "cell_type": "code",
      "metadata": {
        "id": "mOTDPr8TPX_M"
      },
      "source": [
        ""
      ],
      "execution_count": null,
      "outputs": []
    },
    {
      "cell_type": "code",
      "metadata": {
        "id": "x866J91cPX8u"
      },
      "source": [
        ""
      ],
      "execution_count": null,
      "outputs": []
    },
    {
      "cell_type": "code",
      "metadata": {
        "id": "K8wkY9R3PX6W"
      },
      "source": [
        ""
      ],
      "execution_count": null,
      "outputs": []
    },
    {
      "cell_type": "code",
      "metadata": {
        "id": "FVN6L-mrPX4E"
      },
      "source": [
        ""
      ],
      "execution_count": null,
      "outputs": []
    },
    {
      "cell_type": "code",
      "metadata": {
        "id": "5zwa5aQ_PX1b"
      },
      "source": [
        ""
      ],
      "execution_count": null,
      "outputs": []
    },
    {
      "cell_type": "code",
      "metadata": {
        "id": "IUV9TYMDPXy_"
      },
      "source": [
        ""
      ],
      "execution_count": null,
      "outputs": []
    },
    {
      "cell_type": "code",
      "metadata": {
        "id": "RpWnm4BRPXwc"
      },
      "source": [
        ""
      ],
      "execution_count": null,
      "outputs": []
    },
    {
      "cell_type": "code",
      "metadata": {
        "id": "B45QpNSWPXuQ"
      },
      "source": [
        ""
      ],
      "execution_count": null,
      "outputs": []
    },
    {
      "cell_type": "code",
      "metadata": {
        "id": "7dTqQkt8PXri"
      },
      "source": [
        ""
      ],
      "execution_count": null,
      "outputs": []
    },
    {
      "cell_type": "code",
      "metadata": {
        "id": "-bb9--tnPXoT"
      },
      "source": [
        ""
      ],
      "execution_count": null,
      "outputs": []
    },
    {
      "cell_type": "code",
      "metadata": {
        "id": "qS2_xIwnPW53"
      },
      "source": [
        ""
      ],
      "execution_count": null,
      "outputs": []
    },
    {
      "cell_type": "code",
      "metadata": {
        "id": "P2YDBYnCPWo5"
      },
      "source": [
        ""
      ],
      "execution_count": null,
      "outputs": []
    }
  ]
}